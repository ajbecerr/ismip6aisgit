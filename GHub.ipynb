{
 "cells": [
  {
   "cell_type": "markdown",
   "id": "2319ceb8",
   "metadata": {},
   "source": [
    "# An Open Source Tool for Visualizing ISM Intercomparisons\n",
    "\n",
    "# Abstract \n",
    "\n",
    "This tool is produces the visualizations from \"ISMIP6 Antarctica: a multi-model ensemble of the Antarctic ice sheet evolution over the 21st century\" (Seroussi et al., 2020). This international study presented various simulations for the evolution of the Antarctic ice sheet from 2015–2100. As there is a significant degree of uncertainty surrounding future climate and ocean conditions as well as the representation of various physical processes, the results of this model intercomparison demonstrate a significant degree of uncertainty regarding the mass loss that could contribute to future sea level rise in response to these forcings. Ultimately, this tool will allow users to explore the visualizations and model outputs from this study as well as create new visualizations and compute new model outputs from other datasets.\n",
    "\n",
    "# Datasets Description\n",
    "\n",
    "Seroussi, H., Nowicki, S., Payne, A. J., Goelzer, H., Lipscomb, W. H., Abe-Ouchi, A., Agosta, C., Albrecht, T., Asay-Davis, X., Barthel, A., Calov, R., Cullather, R., Dumas, C., Galton-Fenzi, B. K., Gladstone, R., Golledge, N. R., Gregory, J. M., Greve, R., Hattermann, T., Hoffman, M. J., Humbert, A., Huybrechts, P., Jourdain, N. C., Kleiner, T., Larour, E., Leguy, G. R., Lowry, D. P., Little, C. M., Morlighem, M., Pattyn, F., Pelle, T., Price, S. F., Quiquet, A., Reese, R., Schlegel, N.-J., Shepherd, A., Simon, E., Smith, R. S., Straneo, F., Sun, S., Trusel, L. D., Van Breedam, J., van de Wal, R. S. W., Winkelmann, R., Zhao, C., Zhang, T., and Zwinger, T.: ISMIP6 Antarctica: a multi-model ensemble of the Antarctic ice sheet evolution over the 21st century, The Cryosphere, 14, 3033–3070, https://doi.org/10.5194/tc-14-3033-2020, 2020.\n",
    "\n",
    "Model outputs from the simulations described in the paper above are available in the CMIP6 archive through the Earth System Grid Federation (ESGF; https://esgf-node.llnl.gov/search/cmip6/ (ESFG, 2020), last access: 11 July 2020) for two-dimensional variables. Scalars computed from two-dimensional fields for this study are available from archive on Zenodo with the following doi: https://doi.org/10.5281/zenodo.3940766. The two-dimensional variables and calars are also stored on CCR.\n",
    "\n",
    "In order to document CMIP6's scientific impact and enable ongoing support of CMIP, users are obligated to acknowledge CMIP6, participating modeling groups and the ESGF centers (see details on the CMIP Panel website: https://www.wcrp-climate.org/wgcm-cmip, last access: 11 July 2020). The forcing datasets are available through the ISMIP6 wiki (http://www.climate-cryosphere.org/wiki/index.php?title=ISMIP6_wiki_page, ISMIP6, 2020) and are also archived in a publicly available repository.\n",
    "\n",
    "# Upload requirements\n",
    "\n",
    "Contact us for inquiries about uploading datasets.\n",
    "\n",
    "# How the tools works\n",
    "\n",
    "- 17 figures are produced with the computed scalars from Seroussi et al. (2020).\n",
    "- Simply run the cell code below.\n",
    "\n",
    "# Tool Output\n",
    "\n",
    "- Figures and captions will populate this notebook once the code runs.\n",
    "\n",
    "# Body of the code starts."
   ]
  },
  {
   "cell_type": "code",
   "execution_count": 1,
   "id": "b79262b5",
   "metadata": {
    "scrolled": false
   },
   "outputs": [
    {
     "ename": "FileNotFoundError",
     "evalue": "[Errno 2] No such file or directory: 'FiguresPaperFinal'",
     "output_type": "error",
     "traceback": [
      "\u001b[0;31m---------------------------------------------------------------------------\u001b[0m",
      "\u001b[0;31mFileNotFoundError\u001b[0m                         Traceback (most recent call last)",
      "\u001b[0;32m<ipython-input-1-bb0583aaa2de>\u001b[0m in \u001b[0;36m<module>\u001b[0;34m\u001b[0m\n\u001b[1;32m     14\u001b[0m     \u001b[0mdisplay\u001b[0m\u001b[0;34m(\u001b[0m\u001b[0mMarkdown\u001b[0m\u001b[0;34m(\u001b[0m\u001b[0mcaption\u001b[0m\u001b[0;34m)\u001b[0m\u001b[0;34m)\u001b[0m\u001b[0;34m\u001b[0m\u001b[0;34m\u001b[0m\u001b[0m\n\u001b[1;32m     15\u001b[0m \u001b[0;34m\u001b[0m\u001b[0m\n\u001b[0;32m---> 16\u001b[0;31m \u001b[0mshutil\u001b[0m\u001b[0;34m.\u001b[0m\u001b[0mrmtree\u001b[0m\u001b[0;34m(\u001b[0m\u001b[0;34m'FiguresPaperFinal'\u001b[0m\u001b[0;34m)\u001b[0m\u001b[0;34m\u001b[0m\u001b[0;34m\u001b[0m\u001b[0m\n\u001b[0m",
      "\u001b[0;32m/util/common/python/ondemand-jupyter/py38/anaconda-2021.05/lib/python3.8/shutil.py\u001b[0m in \u001b[0;36mrmtree\u001b[0;34m(path, ignore_errors, onerror)\u001b[0m\n\u001b[1;32m    707\u001b[0m             \u001b[0morig_st\u001b[0m \u001b[0;34m=\u001b[0m \u001b[0mos\u001b[0m\u001b[0;34m.\u001b[0m\u001b[0mlstat\u001b[0m\u001b[0;34m(\u001b[0m\u001b[0mpath\u001b[0m\u001b[0;34m)\u001b[0m\u001b[0;34m\u001b[0m\u001b[0;34m\u001b[0m\u001b[0m\n\u001b[1;32m    708\u001b[0m         \u001b[0;32mexcept\u001b[0m \u001b[0mException\u001b[0m\u001b[0;34m:\u001b[0m\u001b[0;34m\u001b[0m\u001b[0;34m\u001b[0m\u001b[0m\n\u001b[0;32m--> 709\u001b[0;31m             \u001b[0monerror\u001b[0m\u001b[0;34m(\u001b[0m\u001b[0mos\u001b[0m\u001b[0;34m.\u001b[0m\u001b[0mlstat\u001b[0m\u001b[0;34m,\u001b[0m \u001b[0mpath\u001b[0m\u001b[0;34m,\u001b[0m \u001b[0msys\u001b[0m\u001b[0;34m.\u001b[0m\u001b[0mexc_info\u001b[0m\u001b[0;34m(\u001b[0m\u001b[0;34m)\u001b[0m\u001b[0;34m)\u001b[0m\u001b[0;34m\u001b[0m\u001b[0;34m\u001b[0m\u001b[0m\n\u001b[0m\u001b[1;32m    710\u001b[0m             \u001b[0;32mreturn\u001b[0m\u001b[0;34m\u001b[0m\u001b[0;34m\u001b[0m\u001b[0m\n\u001b[1;32m    711\u001b[0m         \u001b[0;32mtry\u001b[0m\u001b[0;34m:\u001b[0m\u001b[0;34m\u001b[0m\u001b[0;34m\u001b[0m\u001b[0m\n",
      "\u001b[0;32m/util/common/python/ondemand-jupyter/py38/anaconda-2021.05/lib/python3.8/shutil.py\u001b[0m in \u001b[0;36mrmtree\u001b[0;34m(path, ignore_errors, onerror)\u001b[0m\n\u001b[1;32m    705\u001b[0m         \u001b[0;31m# lstat()/open()/fstat() trick.\u001b[0m\u001b[0;34m\u001b[0m\u001b[0;34m\u001b[0m\u001b[0;34m\u001b[0m\u001b[0m\n\u001b[1;32m    706\u001b[0m         \u001b[0;32mtry\u001b[0m\u001b[0;34m:\u001b[0m\u001b[0;34m\u001b[0m\u001b[0;34m\u001b[0m\u001b[0m\n\u001b[0;32m--> 707\u001b[0;31m             \u001b[0morig_st\u001b[0m \u001b[0;34m=\u001b[0m \u001b[0mos\u001b[0m\u001b[0;34m.\u001b[0m\u001b[0mlstat\u001b[0m\u001b[0;34m(\u001b[0m\u001b[0mpath\u001b[0m\u001b[0;34m)\u001b[0m\u001b[0;34m\u001b[0m\u001b[0;34m\u001b[0m\u001b[0m\n\u001b[0m\u001b[1;32m    708\u001b[0m         \u001b[0;32mexcept\u001b[0m \u001b[0mException\u001b[0m\u001b[0;34m:\u001b[0m\u001b[0;34m\u001b[0m\u001b[0;34m\u001b[0m\u001b[0m\n\u001b[1;32m    709\u001b[0m             \u001b[0monerror\u001b[0m\u001b[0;34m(\u001b[0m\u001b[0mos\u001b[0m\u001b[0;34m.\u001b[0m\u001b[0mlstat\u001b[0m\u001b[0;34m,\u001b[0m \u001b[0mpath\u001b[0m\u001b[0;34m,\u001b[0m \u001b[0msys\u001b[0m\u001b[0;34m.\u001b[0m\u001b[0mexc_info\u001b[0m\u001b[0;34m(\u001b[0m\u001b[0;34m)\u001b[0m\u001b[0;34m)\u001b[0m\u001b[0;34m\u001b[0m\u001b[0;34m\u001b[0m\u001b[0m\n",
      "\u001b[0;31mFileNotFoundError\u001b[0m: [Errno 2] No such file or directory: 'FiguresPaperFinal'"
     ]
    }
   ],
   "source": [
    "import os\n",
    "os.system('module use vhub/python; python submit.py')\n",
    "\n",
    "import glob\n",
    "from IPython.display import Image, display, Markdown\n",
    "import shutil\n",
    "\n",
    "figures = glob.glob('*.png')[-9:] + glob.glob('*.png')[:-9]\n",
    "headers = dict(zip(figures, ['# Figure '+figure[6:-4] for figure in figures]))\n",
    "for figure in figures:\n",
    "    display(Image(filename=figure))\n",
    "    text = open('CaptionsPaperFinal/'+str(figure[:-4])+'.txt', 'r').read()\n",
    "    caption = headers[figure]+':'+'\\n'+text\n",
    "    display(Markdown(caption))\n",
    "\n",
    "shutil.rmtree('FiguresPaperFinal')"
   ]
  },
  {
   "cell_type": "code",
   "execution_count": null,
   "id": "d4333de6",
   "metadata": {},
   "outputs": [],
   "source": []
  }
 ],
 "metadata": {
  "kernelspec": {
   "display_name": "Python 3",
   "language": "python",
   "name": "python3"
  },
  "language_info": {
   "codemirror_mode": {
    "name": "ipython",
    "version": 3
   },
   "file_extension": ".py",
   "mimetype": "text/x-python",
   "name": "python",
   "nbconvert_exporter": "python",
   "pygments_lexer": "ipython3",
   "version": "3.8.8"
  }
 },
 "nbformat": 4,
 "nbformat_minor": 5
}
